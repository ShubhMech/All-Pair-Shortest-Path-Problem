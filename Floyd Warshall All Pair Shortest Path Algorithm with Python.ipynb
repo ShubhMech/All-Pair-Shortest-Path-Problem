{
 "cells": [
  {
   "cell_type": "code",
   "execution_count": 12,
   "id": "05e1ed85-fff7-49c8-8601-dec88c7adfb8",
   "metadata": {},
   "outputs": [
    {
     "name": "stdin",
     "output_type": "stream",
     "text": [
      "No of vertices in the graph 4\n"
     ]
    }
   ],
   "source": [
    "V= int(input(\"No of vertices in the graph\"))\n",
    "INF = float('inf')\n",
    "def floydWarshall(graph):\n",
    "    global dist\n",
    "   \n",
    "    for i in range(V):\n",
    "        for j in range(V):\n",
    "            \n",
    "            dist[i][j]= graph[i][j]\n",
    " \n",
    "\n",
    "    for k in range(V):\n",
    " \n",
    "        \n",
    "        for i in range(V):\n",
    " \n",
    "            \n",
    "            for j in range(V):\n",
    "                dist[i][j] = min(dist[i][j],\n",
    "                                 dist[i][k] + dist[k][j]\n",
    "                                 )\n",
    "    printSolution(dist)\n",
    "def printSolution(dist):\n",
    "    print (\"Following matrix shows the shortest distances\\\n",
    " between every pair of vertices\")\n",
    "    for i in range(V):\n",
    "        for j in range(V):\n",
    "            if(dist[i][j] == INF):\n",
    "                print (\"%7s\" % (\"INF\"),end=\" \")\n",
    "            else:\n",
    "                print (\"%7d\\t\" % (dist[i][j]),end=' ')\n",
    "            if j == V-1:\n",
    "                print ()\n"
   ]
  },
  {
   "cell_type": "code",
   "execution_count": 13,
   "id": "3e3e7254-9201-4ef4-a4fe-0411d202283f",
   "metadata": {},
   "outputs": [
    {
     "name": "stdout",
     "output_type": "stream",
     "text": [
      "Following matrix shows the shortest distances between every pair of vertices\n",
      "      0\t       5\t       8\t       9\t \n",
      "    INF       0\t       3\t       4\t \n",
      "    INF     INF       0\t       1\t \n",
      "    INF     INF     INF       0\t \n"
     ]
    }
   ],
   "source": [
    "graph = [[0, 5, INF, 10],\n",
    "         [INF, 0, 3, INF],\n",
    "         [INF, INF, 0,   1],\n",
    "         [INF, INF, INF, 0]\n",
    "         ]\n",
    "\n",
    "floydWarshall(graph)\n"
   ]
  },
  {
   "cell_type": "code",
   "execution_count": 14,
   "id": "4bc17de8-0a2f-4184-96ff-447efd8780f6",
   "metadata": {},
   "outputs": [
    {
     "data": {
      "text/plain": [
       "[[0, 5, 8, 9], [inf, 0, 3, 4], [inf, inf, 0, 1], [inf, inf, inf, 0]]"
      ]
     },
     "execution_count": 14,
     "metadata": {},
     "output_type": "execute_result"
    }
   ],
   "source": [
    "dist"
   ]
  },
  {
   "cell_type": "code",
   "execution_count": null,
   "id": "82847c77-9d50-4999-ab0a-a48ec0881e41",
   "metadata": {},
   "outputs": [],
   "source": []
  }
 ],
 "metadata": {
  "kernelspec": {
   "display_name": "Python 3",
   "language": "python",
   "name": "python3"
  },
  "language_info": {
   "codemirror_mode": {
    "name": "ipython",
    "version": 3
   },
   "file_extension": ".py",
   "mimetype": "text/x-python",
   "name": "python",
   "nbconvert_exporter": "python",
   "pygments_lexer": "ipython3",
   "version": "3.8.5"
  }
 },
 "nbformat": 4,
 "nbformat_minor": 5
}
